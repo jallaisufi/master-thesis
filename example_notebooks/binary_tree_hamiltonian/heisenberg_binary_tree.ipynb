{
 "cells": [
  {
   "cell_type": "code",
   "execution_count": 391,
   "metadata": {},
   "outputs": [],
   "source": [
    "import pytreenet as ptn\n",
    "import numpy as np\n",
    "from pytreenet.operators import pauli_matrices\n",
    "from pytreenet.operators import TensorProduct, Hamiltonian\n",
    "from pytreenet import (\n",
    "    TTNTimeEvolutionConfig,\n",
    "    SecondOrderTwoSiteTDVP,\n",
    ")\n",
    "from pytreenet.util.tensor_splitting import SVDParameters\n",
    "from pytreenet.operators import pauli_matrices\n",
    "from typing import Dict\n",
    "from pytreenet.operators import pauli_matrices\n",
    "from numpy import ndarray, mean, zeros, kron, eye, asarray\n",
    "from matplotlib.pyplot import subplots, show\n",
    "from pytreenet import (\n",
    "    TTNTimeEvolutionConfig,\n",
    "    ExactTimeEvolution,\n",
    "    TreeTensorNetworkOperator,\n",
    "    TimeEvolution,\n",
    ")"
   ]
  },
  {
   "cell_type": "markdown",
   "metadata": {},
   "source": [
    "Create method for binary tree. Each node has one physical leg."
   ]
  },
  {
   "cell_type": "code",
   "execution_count": null,
   "metadata": {},
   "outputs": [
    {
     "name": "stdout",
     "output_type": "stream",
     "text": [
      "site0 ['site1', 'site2'] [2]\n",
      "site1 ['site3', 'site4'] [3]\n",
      "site2 ['site5', 'site6'] [3]\n",
      "site3 ['site7', 'site8'] [3]\n",
      "site4 [] [1]\n",
      "site5 [] [1]\n",
      "site6 [] [1]\n",
      "site7 [] [1]\n",
      "site8 [] [1]\n"
     ]
    }
   ],
   "source": [
    "def create_binary_tree(num_nodes):\n",
    "    ttns = ptn.TreeTensorNetworkState()\n",
    "\n",
    "    if num_nodes < 1:\n",
    "        raise ValueError(\"The number of nodes must be at least 1.\")\n",
    "\n",
    "    zero_state = np.zeros((2,), dtype=complex)\n",
    "    zero_state[0] = 1.0\n",
    "\n",
    "    root_tensor = np.zeros((2, 2, 2), dtype=complex)\n",
    "    root_tensor[:, :, 0] = zero_state.reshape(1, 1, 2)\n",
    "    root_node = ptn.Node(identifier=\"site0\")\n",
    "    ttns.add_root(root_node, root_tensor)\n",
    "\n",
    "    nodes = [(\"site0\", root_node, root_tensor)]\n",
    "    current_node_count = 1\n",
    "    level_count = 0\n",
    "\n",
    "    while current_node_count < num_nodes:\n",
    "        parent_name = nodes.pop(0)[0]\n",
    "\n",
    "        if current_node_count < num_nodes:\n",
    "            left_name = f\"site{current_node_count}\"\n",
    "            left_shape = (\n",
    "                (2, 2) if (current_node_count * 2 + 1 >= num_nodes) else (2, 2, 2, 2)\n",
    "            )\n",
    "            left_tensor = np.zeros(left_shape, dtype=complex)\n",
    "            left_tensor[..., 0] = zero_state\n",
    "            left_child = ptn.Node(identifier=left_name)\n",
    "            ttns.add_child_to_parent(left_child, left_tensor, 0, parent_name, 1)\n",
    "\n",
    "            nodes.append((left_name, left_child, left_tensor))\n",
    "            current_node_count += 1\n",
    "\n",
    "        if current_node_count < num_nodes:\n",
    "            right_name = f\"site{current_node_count}\"\n",
    "            right_shape = (\n",
    "                (2, 2) if (current_node_count * 2 + 1 >= num_nodes) else (2, 2, 2, 2)\n",
    "            )\n",
    "            right_tensor = np.zeros(right_shape, dtype=complex)\n",
    "            right_tensor[..., 0] = zero_state\n",
    "            right_child = ptn.Node(identifier=right_name)\n",
    "            ttns.add_child_to_parent(right_child, right_tensor, 1, parent_name, 2)\n",
    "\n",
    "            nodes.append((right_name, right_child, right_tensor))\n",
    "            current_node_count += 1\n",
    "\n",
    "        level_count += 1\n",
    "    return ttns\n",
    "\n",
    "\n",
    "binary_tree = create_binary_tree(9)\n",
    "\n",
    "for ident, node in binary_tree.nodes.items():\n",
    "    print(ident, node.children, node.open_legs)"
   ]
  },
  {
   "cell_type": "markdown",
   "metadata": {},
   "source": [
    "Heisenberg model hamiltonian with time evolution on the binary tree.\n",
    "\n",
    "Each couple of nodes connected to each other will have three Heisenberg terms, one for each of the Pauli matrices."
   ]
  },
  {
   "cell_type": "code",
   "execution_count": 393,
   "metadata": {},
   "outputs": [],
   "source": [
    "factor = -1.0\n",
    "time_step_size = 0.01\n",
    "total_time = 1.0"
   ]
  },
  {
   "cell_type": "code",
   "execution_count": null,
   "metadata": {},
   "outputs": [],
   "source": [
    "def generate_ham_heisenberg_model(binary_tree, factor):\n",
    "    X, Y, Z = pauli_matrices()\n",
    "\n",
    "    heisenberg_terms = []\n",
    "\n",
    "    def add_heisenberg_term(node1, node2):\n",
    "        heisenberg_terms.append(TensorProduct({node1: \"-J*X\", node2: \"X\"}))\n",
    "        heisenberg_terms.append(TensorProduct({node1: \"-J*Y\", node2: \"Y\"}))\n",
    "        heisenberg_terms.append(TensorProduct({node1: \"-J*Z\", node2: \"Z\"}))\n",
    "\n",
    "    for ident, node in binary_tree.nodes.items():\n",
    "        for child in node.children:\n",
    "            add_heisenberg_term(ident, child)\n",
    "\n",
    "    conversion_dict = {\n",
    "        \"-J*X\": -1 * factor * X,\n",
    "        \"X\": X,\n",
    "        \"-J*Y\": -1 * factor * Y,\n",
    "        \"Y\": Y,\n",
    "        \"-J*Z\": -1 * factor * Z,\n",
    "        \"Z\": Z,\n",
    "        \"I2\": np.eye(2),\n",
    "    }\n",
    "\n",
    "    heisenberg_hamiltonian = Hamiltonian(heisenberg_terms, conversion_dict)\n",
    "    return heisenberg_hamiltonian\n",
    "\n",
    "\n",
    "def generate_heisenberg_model(binary_tree, factor):\n",
    "    hamiltonian = generate_ham_heisenberg_model(binary_tree, factor)\n",
    "    return TreeTensorNetworkOperator.from_hamiltonian(hamiltonian, binary_tree)\n",
    "\n",
    "\n",
    "def generate_operators(binary_tree):\n",
    "    \"\"\"\n",
    "    Generate the operators for the binary tree, including Z-Z interactions.\n",
    "    \"\"\"\n",
    "    X, Y, Z = pauli_matrices()\n",
    "\n",
    "    operators = {}\n",
    "    for node_id, node_obj in binary_tree.nodes.items():\n",
    "        if not node_obj.is_root():\n",
    "            parent_id = node_obj.parent\n",
    "            operators[f\"ZZ_{parent_id}_{node_id}\"] = TensorProduct(\n",
    "                {node_id: Z, parent_id: Z}\n",
    "            )\n",
    "\n",
    "    return operators"
   ]
  },
  {
   "cell_type": "code",
   "execution_count": 404,
   "metadata": {},
   "outputs": [
    {
     "name": "stderr",
     "output_type": "stream",
     "text": [
      "  0%|          | 0/101 [00:00<?, ?it/s]"
     ]
    },
    {
     "name": "stderr",
     "output_type": "stream",
     "text": [
      "100%|██████████| 101/101 [00:02<00:00, 37.95it/s]\n"
     ]
    }
   ],
   "source": [
    "svd = SVDParameters(max_bond_dim=10, rel_tol=1e-5, total_tol=0.0)\n",
    "ttno = generate_heisenberg_model(binary_tree, factor)\n",
    "operators = generate_operators(binary_tree)\n",
    "config = TTNTimeEvolutionConfig(record_bond_dim=True)\n",
    "\n",
    "tdvp_twosite = SecondOrderTwoSiteTDVP(\n",
    "    binary_tree,\n",
    "    ttno,\n",
    "    time_step_size,\n",
    "    total_time,\n",
    "    operators,\n",
    "    truncation_parameters=svd,\n",
    "    config=config,\n",
    ")\n",
    "\n",
    "tdvp_twosite.run()"
   ]
  },
  {
   "cell_type": "markdown",
   "metadata": {},
   "source": [
    "The Exact Simulation"
   ]
  },
  {
   "cell_type": "code",
   "execution_count": 398,
   "metadata": {},
   "outputs": [],
   "source": [
    "def generate_exact_heisenberg_hamiltonian(factor: float, num_sites: int) -> np.ndarray:\n",
    "    \"\"\"\n",
    "    Generate the Heisenberg Hamiltonian.\n",
    "    \"\"\"\n",
    "\n",
    "    ham = np.zeros((2**num_sites, 2**num_sites), dtype=complex)\n",
    "\n",
    "    for i in range(num_sites - 1):\n",
    "        term = asarray([1.0], dtype=complex)\n",
    "        for j in range(num_sites):\n",
    "            if j == i:\n",
    "                term = kron(term, factor * pauli_matrices()[0])\n",
    "            elif j == i + 1:\n",
    "                term = kron(term, pauli_matrices()[0])\n",
    "            else:\n",
    "                term = kron(term, eye(2))\n",
    "        ham += term\n",
    "\n",
    "    for i in range(num_sites - 1):\n",
    "        term = asarray([1.0], dtype=complex)\n",
    "        for j in range(num_sites):\n",
    "            if j == i:\n",
    "                term = kron(term, factor * pauli_matrices()[1])\n",
    "            elif j == i + 1:\n",
    "                term = kron(term, pauli_matrices()[1])\n",
    "            else:\n",
    "                term = kron(term, eye(2))\n",
    "        ham += term\n",
    "\n",
    "    for i in range(num_sites - 1):\n",
    "        term = asarray([1.0], dtype=complex)\n",
    "        for j in range(num_sites):\n",
    "            if j == i:\n",
    "                term = kron(term, factor * pauli_matrices()[2])\n",
    "            elif j == i + 1:\n",
    "                term = kron(term, pauli_matrices()[2])\n",
    "            else:\n",
    "                term = kron(term, eye(2))\n",
    "        ham += term\n",
    "\n",
    "    return ham\n",
    "\n",
    "\n",
    "def generate_exact_initial_state(num_sites: int, local_dim: int) -> ndarray:\n",
    "    \"\"\"\n",
    "    Generate the exact all zero initial state for an Ising model.\n",
    "    \"\"\"\n",
    "    state = zeros(local_dim**num_sites, dtype=complex)\n",
    "    state[0] = 1.0\n",
    "    return state\n",
    "\n",
    "\n",
    "def generate_exact_operators(num_sites: int) -> Dict[str,ndarray]:\n",
    "    \"\"\"\n",
    "    Generate the exact single site operators for all sites.\n",
    "    \"\"\"\n",
    "    operators = {}\n",
    "    for i in range(num_sites):\n",
    "        operator = asarray([1.0], dtype=complex)\n",
    "        for j in range(num_sites):\n",
    "            if j == i:\n",
    "                operator = kron(operator,pauli_matrices()[2])\n",
    "            else:\n",
    "                operator = kron(operator,eye(2))\n",
    "        operators[\"site\"+str(i)] = operator\n",
    "    return operators"
   ]
  },
  {
   "cell_type": "code",
   "execution_count": 399,
   "metadata": {},
   "outputs": [
    {
     "name": "stderr",
     "output_type": "stream",
     "text": [
      "100%|██████████| 101/101 [00:00<00:00, 386.31it/s]\n"
     ]
    }
   ],
   "source": [
    "time_step_size = 0.01\n",
    "num_sites = 9\n",
    "final_time = 1.0\n",
    "local_dim = 2\n",
    "factor = -2.0\n",
    "intial_state_exact = generate_exact_initial_state(num_sites, local_dim)\n",
    "ham_exact = generate_exact_heisenberg_hamiltonian(factor, num_sites)\n",
    "operators_exact = generate_exact_operators(num_sites)\n",
    "exact_evo = ExactTimeEvolution(\n",
    "    intial_state_exact, ham_exact, time_step_size, final_time, operators_exact\n",
    ")\n",
    "\n",
    "exact_evo.run()"
   ]
  },
  {
   "cell_type": "markdown",
   "metadata": {},
   "source": [
    "Calculate Magnetization"
   ]
  },
  {
   "cell_type": "code",
   "execution_count": 400,
   "metadata": {},
   "outputs": [],
   "source": [
    "def compute_total_magn(evo: TimeEvolution) -> ndarray:\n",
    "    \"\"\"\n",
    "    Compute the total magnetization of the system.\n",
    "    \"\"\"\n",
    "    local_magn = evo.operator_results(realise=False)[:-1]\n",
    "    magn = mean(local_magn, axis=0)\n",
    "    return magn\n",
    "\n",
    "\n",
    "magn_exact = compute_total_magn(exact_evo)\n",
    "magn_tdvp = compute_total_magn(tdvp_twosite)"
   ]
  },
  {
   "cell_type": "markdown",
   "metadata": {},
   "source": [
    "Plot"
   ]
  },
  {
   "cell_type": "code",
   "execution_count": 401,
   "metadata": {},
   "outputs": [
    {
     "name": "stderr",
     "output_type": "stream",
     "text": [
      "C:\\Users\\Admin\\AppData\\Roaming\\Python\\Python312\\site-packages\\matplotlib\\cbook.py:1762: ComplexWarning: Casting complex values to real discards the imaginary part\n",
      "  return math.isfinite(val)\n",
      "C:\\Users\\Admin\\AppData\\Roaming\\Python\\Python312\\site-packages\\matplotlib\\cbook.py:1398: ComplexWarning: Casting complex values to real discards the imaginary part\n",
      "  return np.asarray(x, float)\n"
     ]
    },
    {
     "data": {
      "image/png": "[encoded data removed]",
      "text/plain": [
       "<Figure size 1000x500 with 2 Axes>"
      ]
     },
     "metadata": {},
     "output_type": "display_data"
    }
   ],
   "source": [
    "\n",
    "figure, axs = subplots(1, 2, figsize=(10, 5))\n",
    "times = exact_evo.times()\n",
    "\n",
    "axs[0].plot(times, magn_exact, label=\"Exact\", color=\"black\")\n",
    "axs[0].plot(times, magn_tdvp, label=\"TDVP\", color=\"blue\")\n",
    "axs[0].set_xlabel(\"Time $t$\")\n",
    "axs[0].set_ylabel(\"Magnetization\")\n",
    "axs[0].legend()\n",
    "\n",
    "axs[1].plot(times, abs(magn_exact - magn_tdvp))\n",
    "axs[1].set_xlabel(\"Time $t$\")\n",
    "axs[1].set_ylabel(\"Error\")\n",
    "\n",
    "figure.suptitle(\"Total magnetization of the Heisenberg model\")\n",
    "figure.tight_layout()\n",
    "show()"
   ]
  }
 ],
 "metadata": {
  "kernelspec": {
   "display_name": "Python 3",
   "language": "python",
   "name": "python3"
  },
  "language_info": {
   "codemirror_mode": {
    "name": "ipython",
    "version": 3
   },
   "file_extension": ".py",
   "mimetype": "text/x-python",
   "name": "python",
   "nbconvert_exporter": "python",
   "pygments_lexer": "ipython3",
   "version": "3.12.6"
  }
 },
 "nbformat": 4,
 "nbformat_minor": 2
}
