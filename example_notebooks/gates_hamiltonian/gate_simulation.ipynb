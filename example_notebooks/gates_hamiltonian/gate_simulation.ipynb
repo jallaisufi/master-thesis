{
 "cells": [
  {
   "cell_type": "code",
   "execution_count": null,
   "metadata": {},
   "outputs": [],
   "source": [
    "from copy import deepcopy\n",
    "\n",
    "import numpy as np\n",
    "from numpy import asarray, sqrt, eye, abs as npabs, kron, pi, ndarray, append\n",
    "from matplotlib.pyplot import subplots, show\n",
    "\n",
    "from pytreenet.core import Node\n",
    "from pytreenet.ttns import TreeTensorNetworkState\n",
    "from pytreenet.operators import TensorProduct, Hamiltonian, pauli_matrices\n",
    "from pytreenet.ttno import TreeTensorNetworkOperator\n",
    "\n",
    "from pytreenet.time_evolution.bug import BUG\n",
    "from pytreenet.time_evolution.exact_time_evolution import ExactTimeEvolution\n",
    "from pytreenet.time_evolution.ttn_time_evolution import TTNTimeEvolutionConfig\n",
    "from pytreenet.util.tensor_splitting import SVDParameters"
   ]
  },
  {
   "cell_type": "code",
   "execution_count": null,
   "metadata": {},
   "outputs": [],
   "source": [
    "# Question: How to get the dimension of the node?\n",
    "dim = 2\n",
    "identity = eye(dim)\n",
    "\n",
    "time_step_size = 0.01\n",
    "final_time = 3.2\n",
    "\n",
    "X, Y, Z = pauli_matrices()\n"
   ]
  },
  {
   "cell_type": "code",
   "execution_count": null,
   "metadata": {},
   "outputs": [],
   "source": [
    "def generate_z_operator(node_id):\n",
    "    sq_op_id = \"SQ_Operator\"\n",
    "    sq_z_op = {sq_op_id: TensorProduct({node_id: Z})}\n",
    "    return sq_z_op"
   ]
  },
  {
   "cell_type": "markdown",
   "metadata": {},
   "source": [
    "## Single Qubit Gate Simulation"
   ]
  },
  {
   "cell_type": "code",
   "execution_count": null,
   "metadata": {},
   "outputs": [],
   "source": [
    "def apply_single_qubit_gate(ttns, node_id, gate_hamiltonian):\n",
    "    # Bug - USE THIS ONE\n",
    "    term = TensorProduct({node_id: \"gate_to_apply\"})\n",
    "    conv_dict = {\"I2\": identity, \"gate_to_apply\": gate_hamiltonian}\n",
    "    hamiltonian = Hamiltonian(term, conversion_dictionary=conv_dict)\n",
    "    ttno = TreeTensorNetworkOperator.from_hamiltonian(hamiltonian, ttns)\n",
    "\n",
    "    z_operator = generate_z_operator(node_id)\n",
    "    bug = BUG(ttns, ttno, time_step_size, final_time, z_operator)\n",
    "\n",
    "    bug.run()\n",
    "\n",
    "    # Exact time evolution\n",
    "    ref_operator = {\"SQ_Operator\": Z}\n",
    "    exact_evo = ExactTimeEvolution(\n",
    "        ttns, gate_hamiltonian, time_step_size, final_time, ref_operator\n",
    "    )\n",
    "    exact_evo.run()\n",
    "    \n",
    "    return ttns\n",
    "    "
   ]
  },
  {
   "cell_type": "markdown",
   "metadata": {},
   "source": [
    "## Two Qubit Gate Simulation"
   ]
  },
  {
   "cell_type": "code",
   "execution_count": null,
   "metadata": {},
   "outputs": [
    {
     "ename": "",
     "evalue": "",
     "output_type": "error",
     "traceback": [
      "\u001b[1;31mThe Kernel crashed while executing code in the current cell or a previous cell. \n",
      "\u001b[1;31mPlease review the code in the cell(s) to identify a possible cause of the failure. \n",
      "\u001b[1;31mClick <a href='https://aka.ms/vscodeJupyterKernelCrash'>here</a> for more info. \n",
      "\u001b[1;31mView Jupyter <a href='command:jupyter.viewOutput'>log</a> for further details."
     ]
    }
   ],
   "source": [
    "def apply_two_qubit_gate(ttns, control_id, target_id, gate_name):\n",
    "    term = None\n",
    "    control_op = None\n",
    "    target_op = None\n",
    "    conv_dict = None\n",
    "    hamiltonian = None\n",
    "    ttno = None\n",
    "    match gate_name:\n",
    "        case \"CNOT\":\n",
    "            term = TensorProduct({control_id: \"control_op\", target_id: \"target_op\"})\n",
    "            control_op = eye(dim) - Z\n",
    "            target_op = eye(dim) - X\n",
    "            conv_dict = {\n",
    "                \"I2\": identity,\n",
    "                \"control_op\": control_op,\n",
    "                \"target_op\": target_op,\n",
    "            }\n",
    "            hamiltonian = Hamiltonian(term, conversion_dictionary=conv_dict)\n",
    "        case \"SWAP\":\n",
    "            term = [\n",
    "                TensorProduct({control_id: \"X\", target_id: \"X\"}),\n",
    "                TensorProduct({control_id: \"Y\", target_id: \"Y\"}),\n",
    "                TensorProduct({control_id: \"Z\", target_id: \"Z\"}),\n",
    "                TensorProduct({control_id: \"I2\", target_id: \"I2\"}),\n",
    "            ]\n",
    "            conversion_dict = {\"X\": X, \"Y\": Y, \"Z\": Z, \"I2\": identity}\n",
    "            hamiltonian = Hamiltonian(\n",
    "                term,\n",
    "                conversion_dictionary=conversion_dict,\n",
    "            )\n",
    "\n",
    "    tq_ops = {\n",
    "        control_id: TensorProduct({control_id: Z}),\n",
    "        target_id: TensorProduct({target_id: Z}),\n",
    "    }\n",
    "\n",
    "    ttno = TreeTensorNetworkOperator.from_hamiltonian(hamiltonian, ttns)\n",
    "    config = TTNTimeEvolutionConfig(record_bond_dim=True)\n",
    "    final_time = 2 * 3.2\n",
    "    bug = BUG(ttns, ttno, time_step_size, final_time, tq_ops, config=config)\n",
    "\n",
    "    bug.run()\n",
    "    return ttns"
   ]
  },
  {
   "cell_type": "code",
   "execution_count": null,
   "metadata": {},
   "outputs": [],
   "source": [
    "def apply_gate(ttns, gate_name, *qubit_ids):\n",
    "    X, Y, Z = pauli_matrices()\n",
    "    H = (1 / np.sqrt(2)) * (X + Z)\n",
    "    one_qubit_gate_map = {\"X\": X, \"Y\": Y, \"Z\": Z, \"H\": H}\n",
    "    two_qubit_gate = [\"CNOT\", \"SWAP\"]\n",
    "    if gate_name in one_qubit_gate_map:\n",
    "        node_id = qubit_ids[0]\n",
    "        gate_hamiltonian = one_qubit_gate_map[gate_name]\n",
    "        ttns.apply_single_qubit_gate(ttns, node_id, gate_hamiltonian)\n",
    "    elif gate_name in two_qubit_gate:\n",
    "        control_id, target_id = qubit_ids\n",
    "        ttns.apply_two_qubit_gate(ttns, control_id, target_id, gate_name)\n",
    "    else:\n",
    "        raise ValueError(f\"Unknown gate: {gate_name}\")\n",
    "    return ttns"
   ]
  },
  {
   "cell_type": "markdown",
   "metadata": {},
   "source": [
    "## Discrete Time Evolution Example"
   ]
  },
  {
   "cell_type": "code",
   "execution_count": null,
   "metadata": {},
   "outputs": [],
   "source": [
    "def discrete_time_evolution(ttns, gate_sequence):\n",
    "    for gate in gate_sequence:\n",
    "        gate_name = gate[0]\n",
    "        qubit_ids = gate[1:]\n",
    "        ttns = apply_gate(ttns, gate_name, *qubit_ids)\n",
    "    return ttns\n",
    "\n",
    "\n",
    "ttns = create_binary_tree(num_nodes=9)\n",
    "gate_sequence = [(\"X\", \"0\"), (\"H\", \"2\"), (\"CNOT\", \"1\", \"2\")]\n",
    "final_state = discrete_time_evolution(ttns, gate_sequence)"
   ]
  },
  {
   "cell_type": "markdown",
   "metadata": {},
   "source": [
    "# Discrete Time Evoltion\n",
    "### Using the QuantumGate class"
   ]
  },
  {
   "cell_type": "code",
   "execution_count": null,
   "metadata": {},
   "outputs": [],
   "source": [
    "from pytreenet.quantum_gates.QuantumGate import CNOTGate, HadamardGate, SWAPGate, XGate, YGate, ZGate\n",
    "\n",
    "\n",
    "from pytreenet.quantum_gates.QuantumGate import CNOTGate, HadamardGate, SWAPGate, XGate, YGate, ZGate\n",
    "\n",
    "\n",
    "def apply_gate(ttns, gate_name, *qubit_ids):\n",
    "    \"\"\"\n",
    "    Apply the given quantum gate to the TTN state.\n",
    "    \n",
    "    Args:\n",
    "        ttns: TreeTensorNetworkState (the quantum state).\n",
    "        gate_name: Name of the gate (\"X\", \"H\", \"CNOT\", etc.).\n",
    "        qubit_ids: IDs of the qubits on which the gate acts.\n",
    "    \n",
    "    Returns:\n",
    "        Updated TTN state after applying the gate.\n",
    "    \"\"\"\n",
    "    gate_classes = {\n",
    "        \"X\": XGate(),\n",
    "        \"Y\": YGate(),\n",
    "        \"Z\": ZGate(),\n",
    "        \"H\": HadamardGate(),\n",
    "        \"CNOT\": CNOTGate(),\n",
    "        \"SWAP\": SWAPGate(),\n",
    "    }\n",
    "\n",
    "    gate = gate_classes.get(gate_name)\n",
    "\n",
    "    if not gate:\n",
    "        raise ValueError(f\"Unknown gate: {gate_name}\")\n",
    "\n",
    "    if gate_name == \"CNOT\":\n",
    "        if len(qubit_ids) < 2:\n",
    "            raise ValueError(\"CNOT gate requires at least one control and one target qubit.\")\n",
    "        control_id = qubit_ids[0]\n",
    "        target_ids = qubit_ids[1:]\n",
    "        gate.apply_gate(ttns, control_id, *target_ids)\n",
    "    elif len(qubit_ids) == 1:\n",
    "        gate.apply_gate(ttns, qubit_ids[0])\n",
    "    elif len(qubit_ids) == 2:\n",
    "        gate.apply_gate(ttns, qubit_ids[0], qubit_ids[1])\n",
    "    else:\n",
    "        raise ValueError(\"Unsupported number of qubits for the gate.\")\n",
    "    \n",
    "    return ttns\n"
   ]
  },
  {
   "cell_type": "code",
   "execution_count": null,
   "metadata": {},
   "outputs": [],
   "source": [
    "def discrete_time_evolution(ttns, gate_sequence):\n",
    "    \"\"\"\n",
    "    Apply a sequence of quantum gates to the TTN state.\n",
    "    \n",
    "    Args:\n",
    "        ttns: TreeTensorNetworkState (the quantum state).\n",
    "        gate_sequence: List of tuples, where each tuple specifies a gate name \n",
    "                       and the qubits it acts on.\n",
    "    \n",
    "    Returns:\n",
    "        Updated TTN state after the sequence of gates is applied.\n",
    "    \"\"\"\n",
    "    for gate in gate_sequence:\n",
    "        gate_name = gate[0]\n",
    "        qubit_ids = gate[1:]\n",
    "        ttns = apply_gate(ttns, gate_name, *qubit_ids)\n",
    "    return ttns"
   ]
  },
  {
   "cell_type": "code",
   "execution_count": null,
   "metadata": {},
   "outputs": [
    {
     "ename": "NameError",
     "evalue": "name 'create_binary_tree' is not defined",
     "output_type": "error",
     "traceback": [
      "\u001b[1;31m---------------------------------------------------------------------------\u001b[0m",
      "\u001b[1;31mNameError\u001b[0m                                 Traceback (most recent call last)",
      "Cell \u001b[1;32mIn[1], line 10\u001b[0m\n\u001b[0;32m      1\u001b[0m gate_sequence \u001b[38;5;241m=\u001b[39m [\n\u001b[0;32m      2\u001b[0m     (\u001b[38;5;124m\"\u001b[39m\u001b[38;5;124mCNOT\u001b[39m\u001b[38;5;124m\"\u001b[39m, \u001b[38;5;124m\"\u001b[39m\u001b[38;5;124m0\u001b[39m\u001b[38;5;124m\"\u001b[39m, \u001b[38;5;124m\"\u001b[39m\u001b[38;5;124m1\u001b[39m\u001b[38;5;124m\"\u001b[39m, \u001b[38;5;124m\"\u001b[39m\u001b[38;5;124m2\u001b[39m\u001b[38;5;124m\"\u001b[39m),\n\u001b[0;32m      3\u001b[0m     (\u001b[38;5;124m\"\u001b[39m\u001b[38;5;124mX\u001b[39m\u001b[38;5;124m\"\u001b[39m, \u001b[38;5;124m\"\u001b[39m\u001b[38;5;124m1\u001b[39m\u001b[38;5;124m\"\u001b[39m),\n\u001b[1;32m   (...)\u001b[0m\n\u001b[0;32m      6\u001b[0m     (\u001b[38;5;124m\"\u001b[39m\u001b[38;5;124mSWAP\u001b[39m\u001b[38;5;124m\"\u001b[39m, \u001b[38;5;124m\"\u001b[39m\u001b[38;5;124m1\u001b[39m\u001b[38;5;124m\"\u001b[39m, \u001b[38;5;124m\"\u001b[39m\u001b[38;5;124m2\u001b[39m\u001b[38;5;124m\"\u001b[39m),\n\u001b[0;32m      7\u001b[0m ]\n\u001b[1;32m---> 10\u001b[0m ttns \u001b[38;5;241m=\u001b[39m \u001b[43mcreate_binary_tree\u001b[49m(num_nodes\u001b[38;5;241m=\u001b[39m\u001b[38;5;241m4\u001b[39m)\n\u001b[0;32m     11\u001b[0m final_state \u001b[38;5;241m=\u001b[39m discrete_time_evolution(ttns, gate_sequence)\n\u001b[0;32m     12\u001b[0m \u001b[38;5;28mprint\u001b[39m(final_state)\n",
      "\u001b[1;31mNameError\u001b[0m: name 'create_binary_tree' is not defined"
     ]
    }
   ],
   "source": [
    "gate_sequence = [\n",
    "    (\"CNOT\", \"0\", \"1\", \"2\", \"3\"),\n",
    "    (\"X\", \"1\"),\n",
    "    (\"Y\", \"2\"),\n",
    "    (\"Z\", \"3\"),\n",
    "    (\"H\", \"0\"),\n",
    "    (\"SWAP\", \"1\", \"2\"),\n",
    "]\n",
    "\n",
    "\n",
    "# ttns = create_binary_tree(num_nodes=4)\n",
    "# final_state = discrete_time_evolution(ttns, gate_sequence)\n",
    "# print(final_state)"
   ]
  }
 ],
 "metadata": {
  "kernelspec": {
   "display_name": "Python 3",
   "language": "python",
   "name": "python3"
  },
  "language_info": {
   "codemirror_mode": {
    "name": "ipython",
    "version": 3
   },
   "file_extension": ".py",
   "mimetype": "text/x-python",
   "name": "python",
   "nbconvert_exporter": "python",
   "pygments_lexer": "ipython3",
   "version": "3.12.6"
  }
 },
 "nbformat": 4,
 "nbformat_minor": 2
}
